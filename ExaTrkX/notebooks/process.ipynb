{
 "cells": [
  {
   "cell_type": "code",
   "execution_count": 7,
   "metadata": {},
   "outputs": [],
   "source": [
    "import sys, os, tqdm, glob, os.path as osp\n",
    "import h5py, numpy as np, pandas as pd\n",
    "import torch, torch_geometric as tg, multiprocessing as mp\n",
    "from uuid import uuid4\n",
    "if '/scratch' not in sys.path: sys.path.append('/scratch')"
   ]
  },
  {
   "cell_type": "markdown",
   "metadata": {},
   "source": [
    "### Load graph from file"
   ]
  },
  {
   "cell_type": "code",
   "execution_count": 87,
   "metadata": {},
   "outputs": [],
   "source": [
    "def get_graph(f, idx):\n",
    "    \n",
    "    # The event table contains one entry per event\n",
    "    evt = f['event_table']\n",
    "    if idx >= evt['event'].shape[0]: raise Exception(f'Graph {idx} larger than file size {evt.shape[0]}')\n",
    "    graph = f['graph_table']\n",
    "\n",
    "    # Get event information\n",
    "    run = evt['run'][idx].squeeze()\n",
    "    subrun = evt['subrun'][idx].squeeze()\n",
    "    event = evt['event'][idx].squeeze()\n",
    "\n",
    "    # Pull out all graph nodes associated with that event\n",
    "    cut = (graph['run'][:,0] == run) & (graph['subrun'][:,0] == subrun) & (graph['event'][:,0] == event)\n",
    "\n",
    "    return pd.DataFrame(np.array([graph[key][cut,0] for key in graph.keys()]).T, columns=list(graph.keys()))"
   ]
  },
  {
   "cell_type": "markdown",
   "metadata": {},
   "source": [
    "### Define edges"
   ]
  },
  {
   "cell_type": "code",
   "execution_count": 88,
   "metadata": {},
   "outputs": [],
   "source": [
    "def create_edges(df):\n",
    "    edges = []\n",
    "    for idx, node in df.iterrows():\n",
    "        start = idx\n",
    "        cut_wire = (df.wire - node.wire > 0) & (df.wire - node.wire <= 5)\n",
    "        cut_time = (abs(df.time-node.time) < 50)\n",
    "        end = df[cut_wire & cut_time].index[:]\n",
    "        for e in end: edges.append((start, e))\n",
    "    return np.array(edges).T"
   ]
  },
  {
   "cell_type": "markdown",
   "metadata": {},
   "source": [
    "### Get truth"
   ]
  },
  {
   "cell_type": "code",
   "execution_count": 89,
   "metadata": {},
   "outputs": [],
   "source": [
    "def get_truth(graph, edges):\n",
    "    truth = [ (graph.true_id[e_in] == graph.true_id[e_out]) for e_in, e_out in edges.T ]\n",
    "    return np.array(truth).T"
   ]
  },
  {
   "cell_type": "markdown",
   "metadata": {},
   "source": [
    "This is the function which loops over a single ROOT file and processes it into input PyTorch files."
   ]
  },
  {
   "cell_type": "code",
   "execution_count": 92,
   "metadata": {},
   "outputs": [],
   "source": [
    "def process(file):\n",
    "    with h5py.File(file, 'r') as f:\n",
    "        for idx in range(f['event_table']['event'].shape[0]):\n",
    "            graph = get_graph(f, idx)\n",
    "            for plane in range(3):\n",
    "                graph_plane = graph[(graph.plane==plane)].reset_index(drop=True)\n",
    "                edges = create_edges(graph_plane)\n",
    "                truth = get_truth(graph_plane, edges)\n",
    "\n",
    "                x = graph_plane.loc[:, ['plane', 'wire', 'time',\n",
    "                                         'tpc', 'rawplane', 'rawwire', 'rawtime', \n",
    "                                         'integral', 'rms' ]].values\n",
    "\n",
    "                true_id = graph_plane['true_id'].values\n",
    "\n",
    "                data = {'x': x, 'edge_index': edges, 'y': truth, 'true_id': true_id}\n",
    "                data = tg.data.Data(**data)\n",
    "\n",
    "                torch.save(data, f'/data/hit2d/processed/{uuid4()}.pt')"
   ]
  },
  {
   "cell_type": "code",
   "execution_count": null,
   "metadata": {},
   "outputs": [],
   "source": [
    "nonswap = glob.glob('/data/hit2d/nonswap/*.h5')\n",
    "fluxswap = glob.glob('/data/hit2d/fluxswap/*.h5')\n",
    "files = nonswap + fluxswap\n",
    "\n",
    "with mp.Pool(processes=50) as pool: pool.map(process, files)"
   ]
  },
  {
   "cell_type": "markdown",
   "metadata": {},
   "source": [
    "### Remove low-hit graphs"
   ]
  },
  {
   "cell_type": "code",
   "execution_count": 8,
   "metadata": {},
   "outputs": [],
   "source": [
    "def check_file(filename):\n",
    "    data = torch.load(filename)\n",
    "    if data.x.shape[0] < 5: os.remove(filename)\n",
    "\n",
    "processed_files = glob.glob('/data/hit2d/processed/*.pt')\n",
    "with mp.Pool(processes=50) as p: p.map(check_file, processed_files)"
   ]
  },
  {
   "cell_type": "code",
   "execution_count": null,
   "metadata": {},
   "outputs": [],
   "source": []
  }
 ],
 "metadata": {
  "kernelspec": {
   "display_name": "Python 3",
   "language": "python",
   "name": "python3"
  },
  "language_info": {
   "codemirror_mode": {
    "name": "ipython",
    "version": 3
   },
   "file_extension": ".py",
   "mimetype": "text/x-python",
   "name": "python",
   "nbconvert_exporter": "python",
   "pygments_lexer": "ipython3",
   "version": "3.6.9"
  }
 },
 "nbformat": 4,
 "nbformat_minor": 4
}
