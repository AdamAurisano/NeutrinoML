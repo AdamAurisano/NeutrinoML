{
 "cells": [
  {
   "cell_type": "markdown",
   "metadata": {},
   "source": [
    "Import modules"
   ]
  },
  {
   "cell_type": "code",
   "execution_count": null,
   "metadata": {},
   "outputs": [],
   "source": [
    "import sys, yaml, logging, numpy as np, tqdm\n",
    "import torch, torch_geometric\n",
    "if '/scratch' not in sys.path: sys.path.append('/scratch')\n",
    "from ExaTrkX import datasets, models\n",
    "# from ExaTrkX.trainers.gnn_parallel import GNNParallelTrainer\n",
    "from Core.trainers import Trainer\n",
    "from torch_geometric.data import DataListLoader, DataLoader"
   ]
  },
  {
   "cell_type": "markdown",
   "metadata": {},
   "source": [
    "Configuration options"
   ]
  },
  {
   "cell_type": "code",
   "execution_count": null,
   "metadata": {},
   "outputs": [],
   "source": [
    "def configure(config):\n",
    "  '''Load input configuration file'''\n",
    "  with open(config) as f:\n",
    "    return yaml.load(f, Loader=yaml.FullLoader)"
   ]
  },
  {
   "cell_type": "markdown",
   "metadata": {},
   "source": [
    "Configuration options (overwrite default configuration with your own if you want!)"
   ]
  },
  {
   "cell_type": "code",
   "execution_count": null,
   "metadata": {},
   "outputs": [],
   "source": [
    "config = configure('/scratch/ExaTrkX/config/hit2d.yaml')"
   ]
  },
  {
   "cell_type": "code",
   "execution_count": null,
   "metadata": {},
   "outputs": [],
   "source": [
    "full_dataset = datasets.get_dataset(**config['data'])\n",
    "\n",
    "trainer = Trainer(**config['trainer'])\n",
    "\n",
    "fulllen = len(full_dataset)\n",
    "tv_num = np.ceil(fulllen*config['data']['t_v_split'])\n",
    "splits = np.cumsum([fulllen-tv_num,0,tv_num])"
   ]
  },
  {
   "cell_type": "markdown",
   "metadata": {},
   "source": [
    "Load dataset"
   ]
  },
  {
   "cell_type": "code",
   "execution_count": null,
   "metadata": {},
   "outputs": [],
   "source": [
    "train_dataset = torch.utils.data.Subset(full_dataset,np.arange(start=0,stop=splits[0]))\n",
    "valid_dataset = torch.utils.data.Subset(full_dataset,np.arange(start=splits[1],stop=splits[2]))\n",
    "\n",
    "n_classes = config['model']['classes']\n",
    "# total = 0\n",
    "# weights = np.zeros(n_classes)\n",
    "# for data in tqdm.tqdm(train_dataset):\n",
    "#     total += data.y.shape[0]\n",
    "#     for i in range(n_classes):\n",
    "#         weights[i] += (data.y == i).sum()\n",
    "# weights = float(total) / (float(n_classes) * weights)\n",
    "\n",
    "# print('class weights:')\n",
    "# for name, weight in zip(config['model']['classes'], weights):\n",
    "#     print(f'  {name}: {weight}')\n",
    "\n",
    "weights=np.ones(n_classes)\n",
    "\n",
    "train_loader = DataLoader(train_dataset, batch_size=config['trainer']['batch_size'], shuffle=True, pin_memory=True)\n",
    "valid_loader = DataLoader(valid_dataset, batch_size=config['trainer']['batch_size'], shuffle=False)"
   ]
  },
  {
   "cell_type": "markdown",
   "metadata": {},
   "source": [
    "Build model"
   ]
  },
  {
   "cell_type": "code",
   "execution_count": null,
   "metadata": {},
   "outputs": [],
   "source": [
    "trainer.build_model(weights=weights, **config['model'])"
   ]
  },
  {
   "cell_type": "markdown",
   "metadata": {},
   "source": [
    "Train!"
   ]
  },
  {
   "cell_type": "code",
   "execution_count": null,
   "metadata": {},
   "outputs": [],
   "source": [
    "train_summary = trainer.train(train_loader, config['trainer']['n_epochs'], valid_data_loader=valid_loader)\n",
    "print(train_summary)"
   ]
  },
  {
   "cell_type": "code",
   "execution_count": null,
   "metadata": {},
   "outputs": [],
   "source": []
  }
 ],
 "metadata": {
  "kernelspec": {
   "display_name": "Python 3",
   "language": "python",
   "name": "python3"
  },
  "language_info": {
   "codemirror_mode": {
    "name": "ipython",
    "version": 3
   },
   "file_extension": ".py",
   "mimetype": "text/x-python",
   "name": "python",
   "nbconvert_exporter": "python",
   "pygments_lexer": "ipython3",
   "version": "3.6.9"
  }
 },
 "nbformat": 4,
 "nbformat_minor": 4
}
