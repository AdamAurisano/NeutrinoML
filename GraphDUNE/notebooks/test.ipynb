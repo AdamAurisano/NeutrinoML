{
 "cells": [
  {
   "cell_type": "markdown",
   "metadata": {},
   "source": [
    "Import modules"
   ]
  },
  {
   "cell_type": "code",
   "execution_count": null,
   "metadata": {},
   "outputs": [],
   "source": [
    "import sys, yaml, logging, numpy as np, tqdm\n",
    "import torch, torch_geometric\n",
    "if '/scratch' not in sys.path: sys.path.append('/scratch')\n",
    "from GraphDUNE import datasets, models\n",
    "from GraphDUNE.trainers.gnn_parallel import GNNParallelTrainer\n",
    "from torch_geometric.data import DataListLoader, DataLoader"
   ]
  },
  {
   "cell_type": "markdown",
   "metadata": {},
   "source": [
    "Configuration options"
   ]
  },
  {
   "cell_type": "code",
   "execution_count": null,
   "metadata": {},
   "outputs": [],
   "source": [
    "def configure(config):\n",
    "  '''Load input configuration file'''\n",
    "  with open(config) as f:\n",
    "    return yaml.load(f, Loader=yaml.FullLoader)"
   ]
  },
  {
   "cell_type": "markdown",
   "metadata": {},
   "source": [
    "Configuration options (overwrite default configuration with your own if you want!)"
   ]
  },
  {
   "cell_type": "code",
   "execution_count": null,
   "metadata": {},
   "outputs": [],
   "source": [
    "config = configure('/scratch/GraphDUNE/config/hit2d.yaml')"
   ]
  },
  {
   "cell_type": "code",
   "execution_count": null,
   "metadata": {},
   "outputs": [],
   "source": [
    "full_dataset = datasets.get_dataset(**config['data'])\n",
    "\n",
    "device = torch.device(f'cuda:{config[\"model\"][\"gpus\"][0]}' if torch.cuda.is_available() else 'cpu')\n",
    "\n",
    "trainer = GNNParallelTrainer(output_dir='./test', device=device, summary_dir=config['trainer']['summary_dir'])\n",
    "\n",
    "fulllen = len(full_dataset)\n",
    "tv_num = np.ceil(fulllen*config['data']['t_v_split'])\n",
    "splits = np.cumsum([fulllen-tv_num,0,tv_num])"
   ]
  },
  {
   "cell_type": "markdown",
   "metadata": {},
   "source": [
    "Load dataset"
   ]
  },
  {
   "cell_type": "code",
   "execution_count": null,
   "metadata": {},
   "outputs": [],
   "source": [
    "valid_dataset = torch.utils.data.Subset(full_dataset,np.arange(start=splits[1],stop=splits[2]))\n",
    "\n",
    "loader = DataListLoader if len(config['model']['gpus']) > 1 else DataLoader\n",
    "valid_loader = loader(valid_dataset, batch_size=config['trainer']['batch_size'], shuffle=False)"
   ]
  },
  {
   "cell_type": "markdown",
   "metadata": {},
   "source": [
    "Build model"
   ]
  },
  {
   "cell_type": "code",
   "execution_count": null,
   "metadata": {},
   "outputs": [],
   "source": [
    "trainer.build_model(weights=np.ones(4), **config['model'])"
   ]
  },
  {
   "cell_type": "markdown",
   "metadata": {},
   "source": [
    "Train!"
   ]
  },
  {
   "cell_type": "code",
   "execution_count": null,
   "metadata": {},
   "outputs": [],
   "source": [
    "trainer.draw_output(valid_loader)"
   ]
  },
  {
   "cell_type": "code",
   "execution_count": null,
   "metadata": {},
   "outputs": [],
   "source": []
  }
 ],
 "metadata": {
  "kernelspec": {
   "display_name": "Python 3",
   "language": "python",
   "name": "python3"
  },
  "language_info": {
   "codemirror_mode": {
    "name": "ipython",
    "version": 3
   },
   "file_extension": ".py",
   "mimetype": "text/x-python",
   "name": "python",
   "nbconvert_exporter": "python",
   "pygments_lexer": "ipython3",
   "version": "3.6.9"
  }
 },
 "nbformat": 4,
 "nbformat_minor": 4
}
