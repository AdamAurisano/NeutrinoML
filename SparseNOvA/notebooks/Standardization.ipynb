{
 "cells": [
  {
   "cell_type": "code",
   "execution_count": 1,
   "id": "403ed7b0-914e-4513-83de-8ded234ee1e3",
   "metadata": {},
   "outputs": [],
   "source": [
    "import sys, os.path as osp, yaml, argparse, logging, math, numpy as np, torch, logging, time\n",
    "sys.path.append('/scratch') # This line is equivalent to doing source scripts/source_me.sh in a bash terminal\n",
    "from torch.utils.data import DataLoader\n",
    "from Core.trainers import Trainer\n",
    "import glob\n",
    "from Core import utils\n",
    "from SparseNOvA import datasets"
   ]
  },
  {
   "cell_type": "code",
   "execution_count": 2,
   "id": "d912fe2e-3b94-44ee-a033-e21bc4d64026",
   "metadata": {},
   "outputs": [],
   "source": [
    "\"read config file\"\n",
    "with open('/scratch/SparseNOvA/config/nova_sparse_fishnet.yaml') as f:\n",
    "    config = yaml.load(f, Loader=yaml.FullLoader)\n",
    "\n",
    "def collate_tool(batch):\n",
    "    feats = torch.cat([d['yfeats'] for d in batch])\n",
    "    print(feats)\n",
    "    return feats\n",
    "\n",
    "config['data']['t_v_split'] = 0.2\n",
    "\n",
    "#datasets\n",
    "limit = 5*config[\"data_loader\"][\"batch_size\"] if config[\"trainer\"][\"debug\"] else None\n",
    "full_dataset = datasets.get_dataset(subdir = \"validation\", apply_jitter = True, standardize_input = True, **config['data'])\n",
    "fulllen = len(full_dataset)\n",
    "tv_num = math.ceil(fulllen*config['data']['t_v_split'])\n",
    "splits = np.cumsum([fulllen-tv_num,tv_num])\n",
    "collate = collate_tool\n",
    "# valid_dataset = torch.utils.data.Subset(full_dataset,np.arange(start=splits[0],stop=splits[1]))\n",
    "# valid_dataset = torch.utils.data.Subset(full_dataset,np.arange(start=0,stop=splits[0]))\n",
    "# valid_loader = DataLoader(valid_dataset, batch_size =50,shuffle=False, collate_fn=collate_tool)"
   ]
  },
  {
   "cell_type": "code",
   "execution_count": 3,
   "id": "16969850-f96a-42bf-bfc0-a0b20f44e99c",
   "metadata": {},
   "outputs": [],
   "source": [
    "full_loader = DataLoader(full_dataset, **config['data_loader'],shuffle=False, collate_fn=collate_tool, drop_last=True)"
   ]
  },
  {
   "cell_type": "code",
   "execution_count": 4,
   "id": "7d498aa6-e994-4358-9a06-83c23905ffae",
   "metadata": {},
   "outputs": [],
   "source": [
    "data = torch.load('/data/p5/processed/tauswap_nu/b1_c0_r25214_sr37_e388_se2.pt')"
   ]
  },
  {
   "cell_type": "code",
   "execution_count": 5,
   "id": "6cb00a90-9674-4fba-9ec8-21b5316c5441",
   "metadata": {},
   "outputs": [
    {
     "name": "stdout",
     "output_type": "stream",
     "text": [
      "dict_keys(['xfeats', 'xcoords', 'xsegtruth', 'xinstruth', 'yfeats', 'ycoords', 'ysegtruth', 'yinstruth', 'evttruth'])\n"
     ]
    }
   ],
   "source": [
    "print(data.keys())"
   ]
  },
  {
   "cell_type": "code",
   "execution_count": 4,
   "id": "5cbbfe41-0d3c-4493-ab9a-b4915cedc59d",
   "metadata": {},
   "outputs": [
    {
     "name": "stderr",
     "output_type": "stream",
     "text": [
      " 14%|█▍        | 1/7 [00:00<00:03,  1.54it/s]"
     ]
    },
    {
     "name": "stdout",
     "output_type": "stream",
     "text": [
      "tensor([14.4864])\n",
      "tensor([16.0955])\n",
      "tensor([14.3487])\n",
      "tensor([15.8800])\n",
      "tensor([14.0953])\n",
      "tensor([15.3398])\n",
      "tensor([14.6514])\n",
      "tensor([15.9536])\n",
      "tensor([14.5815])\n",
      "tensor([16.2948])\n"
     ]
    },
    {
     "name": "stderr",
     "output_type": "stream",
     "text": [
      " 86%|████████▌ | 6/7 [00:01<00:00,  5.80it/s]"
     ]
    },
    {
     "name": "stdout",
     "output_type": "stream",
     "text": [
      "tensor([14.2914])\n",
      "tensor([15.2993])\n",
      "tensor([14.4701])\n",
      "tensor([15.8936])\n",
      "tensor([14.8783])\n",
      "tensor([17.0467])\n",
      "tensor([14.8649])\n",
      "tensor([16.7485])\n",
      "tensor([14.2622])\n",
      "tensor([15.4851])\n"
     ]
    },
    {
     "name": "stderr",
     "output_type": "stream",
     "text": [
      "11it [00:01,  7.39it/s]                      "
     ]
    },
    {
     "name": "stdout",
     "output_type": "stream",
     "text": [
      "tensor([14.4962])\n",
      "tensor([16.6498])\n",
      "tensor([14.4869])\n",
      "tensor([16.0203])\n",
      "tensor([15.1588])\n",
      "tensor([18.1254])\n",
      "tensor([14.4183])\n",
      "tensor([15.3448])\n",
      "tensor([14.7812])\n",
      "tensor([16.9494])\n"
     ]
    },
    {
     "name": "stderr",
     "output_type": "stream",
     "text": [
      "16it [00:02,  8.03it/s]"
     ]
    },
    {
     "name": "stdout",
     "output_type": "stream",
     "text": [
      "tensor([14.8840])\n",
      "tensor([17.0729])\n",
      "tensor([14.3894])\n",
      "tensor([16.1324])\n",
      "tensor([14.9095])\n",
      "tensor([16.9597])\n",
      "tensor([14.6283])\n",
      "tensor([16.2356])\n",
      "tensor([14.6050])\n",
      "tensor([16.1901])\n"
     ]
    },
    {
     "name": "stderr",
     "output_type": "stream",
     "text": [
      "22it [00:03,  7.84it/s]"
     ]
    },
    {
     "name": "stdout",
     "output_type": "stream",
     "text": [
      "tensor([14.3280])\n",
      "tensor([16.1067])\n",
      "tensor([14.3709])\n",
      "tensor([15.7409])\n",
      "tensor([14.4928])\n",
      "tensor([16.3301])\n",
      "tensor([14.5522])\n",
      "tensor([16.0209])\n",
      "tensor([14.7957])\n",
      "tensor([16.9844])\n"
     ]
    },
    {
     "name": "stderr",
     "output_type": "stream",
     "text": [
      "29it [00:03, 10.19it/s]"
     ]
    },
    {
     "name": "stdout",
     "output_type": "stream",
     "text": [
      "tensor([14.5955])\n",
      "tensor([16.9953])\n",
      "tensor([14.7103])\n",
      "tensor([17.1238])\n",
      "tensor([14.5866])\n",
      "tensor([16.0162])\n",
      "tensor([14.5781])\n",
      "tensor([16.2496])\n",
      "tensor([14.4364])\n",
      "tensor([15.8851])\n"
     ]
    },
    {
     "name": "stderr",
     "output_type": "stream",
     "text": [
      "34it [00:04, 10.35it/s]"
     ]
    },
    {
     "name": "stdout",
     "output_type": "stream",
     "text": [
      "tensor([14.2778])\n",
      "tensor([15.5428])\n",
      "tensor([14.6850])\n",
      "tensor([16.8971])\n",
      "tensor([14.7030])\n",
      "tensor([17.1180])\n",
      "tensor([14.4846])\n",
      "tensor([16.4235])\n",
      "tensor([14.4652])\n",
      "tensor([16.3010])\n"
     ]
    },
    {
     "name": "stderr",
     "output_type": "stream",
     "text": [
      "40it [00:04, 10.07it/s]"
     ]
    },
    {
     "name": "stdout",
     "output_type": "stream",
     "text": [
      "tensor([14.7152])\n",
      "tensor([17.1829])\n",
      "tensor([14.6218])\n",
      "tensor([16.3130])\n",
      "tensor([14.0593])\n",
      "tensor([14.5939])\n",
      "tensor([14.7390])\n",
      "tensor([16.9774])\n",
      "tensor([14.1588])\n",
      "tensor([15.8450])\n"
     ]
    },
    {
     "name": "stderr",
     "output_type": "stream",
     "text": [
      "45it [00:05,  9.81it/s]"
     ]
    },
    {
     "name": "stdout",
     "output_type": "stream",
     "text": [
      "tensor([14.4647])\n",
      "tensor([16.4336])\n",
      "tensor([15.0080])\n",
      "tensor([17.6972])\n",
      "tensor([14.3939])\n",
      "tensor([16.0524])\n",
      "tensor([14.2056])\n",
      "tensor([15.3957])\n",
      "tensor([14.4802])\n",
      "tensor([16.1690])\n"
     ]
    },
    {
     "name": "stderr",
     "output_type": "stream",
     "text": [
      "47it [00:05,  7.73it/s]"
     ]
    },
    {
     "name": "stdout",
     "output_type": "stream",
     "text": [
      "tensor([14.4048])\n",
      "tensor([15.5845])\n",
      "tensor([14.4475])\n",
      "tensor([15.8880])\n",
      "tensor([14.2976])\n",
      "tensor([15.6214])\n",
      "tensor([14.4938])\n",
      "tensor([16.1399])\n"
     ]
    },
    {
     "name": "stderr",
     "output_type": "stream",
     "text": [
      "50it [00:06,  9.67it/s]"
     ]
    },
    {
     "name": "stdout",
     "output_type": "stream",
     "text": [
      "tensor([14.4165])\n",
      "tensor([15.8832])\n"
     ]
    },
    {
     "name": "stderr",
     "output_type": "stream",
     "text": [
      "52it [00:06,  7.87it/s]"
     ]
    },
    {
     "name": "stdout",
     "output_type": "stream",
     "text": [
      "tensor([14.0695])\n",
      "tensor([15.4666])\n",
      "tensor([14.6536])\n",
      "tensor([16.7109])\n",
      "tensor([14.1992])\n",
      "tensor([15.2139])\n",
      "tensor([14.2846])\n",
      "tensor([16.1280])\n"
     ]
    },
    {
     "name": "stderr",
     "output_type": "stream",
     "text": [
      "55it [00:06,  9.51it/s]"
     ]
    },
    {
     "name": "stdout",
     "output_type": "stream",
     "text": [
      "tensor([14.3564])\n",
      "tensor([15.2013])\n"
     ]
    },
    {
     "name": "stderr",
     "output_type": "stream",
     "text": [
      "57it [00:07,  7.39it/s]"
     ]
    },
    {
     "name": "stdout",
     "output_type": "stream",
     "text": [
      "tensor([14.5935])\n",
      "tensor([16.6042])\n",
      "tensor([14.1356])\n",
      "tensor([15.2647])\n",
      "tensor([14.6006])\n",
      "tensor([16.4880])\n",
      "tensor([14.6263])\n",
      "tensor([16.3193])\n"
     ]
    },
    {
     "name": "stderr",
     "output_type": "stream",
     "text": [
      "60it [00:07,  8.47it/s]"
     ]
    },
    {
     "name": "stdout",
     "output_type": "stream",
     "text": [
      "tensor([14.4863])\n",
      "tensor([16.4532])\n"
     ]
    },
    {
     "name": "stderr",
     "output_type": "stream",
     "text": [
      "62it [00:07,  7.92it/s]"
     ]
    },
    {
     "name": "stdout",
     "output_type": "stream",
     "text": [
      "tensor([14.4015])\n",
      "tensor([15.5121])\n",
      "tensor([14.5389])\n",
      "tensor([16.5601])\n",
      "tensor([14.7045])\n",
      "tensor([16.4863])\n",
      "tensor([14.4958])\n",
      "tensor([15.8501])\n"
     ]
    },
    {
     "name": "stderr",
     "output_type": "stream",
     "text": [
      "65it [00:07,  8.56it/s]"
     ]
    },
    {
     "name": "stdout",
     "output_type": "stream",
     "text": [
      "tensor([14.6987])\n",
      "tensor([17.2133])\n"
     ]
    },
    {
     "name": "stderr",
     "output_type": "stream",
     "text": [
      "66it [00:08,  7.50it/s]"
     ]
    },
    {
     "name": "stdout",
     "output_type": "stream",
     "text": [
      "tensor([14.6397])\n",
      "tensor([16.2351])\n",
      "tensor([14.2999])\n",
      "tensor([15.7679])\n",
      "tensor([14.4457])\n",
      "tensor([15.8903])\n",
      "tensor([14.1748])\n",
      "tensor([15.4984])\n"
     ]
    },
    {
     "name": "stderr",
     "output_type": "stream",
     "text": [
      "70it [00:08,  8.55it/s]"
     ]
    },
    {
     "name": "stdout",
     "output_type": "stream",
     "text": [
      "tensor([14.7748])\n",
      "tensor([16.3538])\n"
     ]
    },
    {
     "name": "stderr",
     "output_type": "stream",
     "text": [
      "71it [00:08,  7.23it/s]"
     ]
    },
    {
     "name": "stdout",
     "output_type": "stream",
     "text": [
      "tensor([14.6329])\n",
      "tensor([16.2285])\n",
      "tensor([14.3620])\n",
      "tensor([15.9463])\n",
      "tensor([14.7229])\n",
      "tensor([16.3288])\n",
      "tensor([14.3082])\n",
      "tensor([16.2744])\n"
     ]
    },
    {
     "name": "stderr",
     "output_type": "stream",
     "text": [
      "78it [00:09, 10.28it/s]"
     ]
    },
    {
     "name": "stdout",
     "output_type": "stream",
     "text": [
      "tensor([14.4796])\n",
      "tensor([16.1056])\n",
      "tensor([14.3086])\n",
      "tensor([15.4884])\n",
      "tensor([14.3302])\n",
      "tensor([16.2790])\n",
      "tensor([14.6893])\n",
      "tensor([16.7258])\n",
      "tensor([14.7496])\n",
      "tensor([16.8092])\n"
     ]
    },
    {
     "name": "stderr",
     "output_type": "stream",
     "text": [
      "84it [00:10, 10.87it/s]"
     ]
    },
    {
     "name": "stdout",
     "output_type": "stream",
     "text": [
      "tensor([14.8474])\n",
      "tensor([17.1752])\n",
      "tensor([14.4466])\n",
      "tensor([16.2234])\n",
      "tensor([14.8154])\n",
      "tensor([17.1724])\n",
      "tensor([14.3762])\n",
      "tensor([16.2647])\n",
      "tensor([14.8378])\n",
      "tensor([17.0515])\n"
     ]
    },
    {
     "name": "stderr",
     "output_type": "stream",
     "text": [
      "86it [00:10,  7.81it/s]"
     ]
    },
    {
     "name": "stdout",
     "output_type": "stream",
     "text": [
      "tensor([14.5392])\n",
      "tensor([16.2634])\n",
      "tensor([14.4033])\n",
      "tensor([15.8274])\n",
      "tensor([14.2351])\n",
      "tensor([15.3944])\n",
      "tensor([14.2389])\n",
      "tensor([15.2675])\n",
      "tensor([14.5981])\n",
      "tensor([16.3518])\n"
     ]
    },
    {
     "name": "stderr",
     "output_type": "stream",
     "text": [
      "90it [00:11,  7.04it/s]"
     ]
    },
    {
     "name": "stdout",
     "output_type": "stream",
     "text": [
      "tensor([14.6980])\n",
      "tensor([16.9711])\n",
      "tensor([14.2391])\n",
      "tensor([15.1735])\n",
      "tensor([14.3664])\n",
      "tensor([15.7924])\n",
      "tensor([14.7866])\n",
      "tensor([17.2818])\n",
      "tensor([14.5921])\n",
      "tensor([16.6028])\n"
     ]
    },
    {
     "name": "stderr",
     "output_type": "stream",
     "text": [
      "95it [00:11,  6.89it/s]"
     ]
    },
    {
     "name": "stdout",
     "output_type": "stream",
     "text": [
      "tensor([14.6673])\n",
      "tensor([16.5342])\n",
      "tensor([14.4522])\n",
      "tensor([16.5954])\n",
      "tensor([14.4331])\n",
      "tensor([16.1203])\n",
      "tensor([14.3603])\n",
      "tensor([15.6756])\n",
      "tensor([14.3818])\n",
      "tensor([16.0869])\n"
     ]
    },
    {
     "name": "stderr",
     "output_type": "stream",
     "text": [
      "100it [00:12,  7.96it/s]"
     ]
    },
    {
     "name": "stdout",
     "output_type": "stream",
     "text": [
      "tensor([14.6604])\n",
      "tensor([16.4317])\n",
      "******************\n",
      "mean =  tensor([14.5137])\n",
      "sigma =  tensor([16.2276])\n",
      "took --- 12.560780048370361 seconds ---\n"
     ]
    },
    {
     "name": "stderr",
     "output_type": "stream",
     "text": [
      "\n"
     ]
    }
   ],
   "source": [
    "import time \n",
    "import tqdm\n",
    "allm = None\n",
    "allstd = None\n",
    "batch_size = 50\n",
    "n_batches = int(math.ceil(len(full_loader)/batch_size))\n",
    "full_loader = DataLoader(full_dataset, **config['data_loader'],shuffle=False, collate_fn=collate_tool, drop_last=True)\n",
    "t = tqdm.tqdm(enumerate(full_loader),total=n_batches)\n",
    "start_time = time.time()\n",
    "for i, data in t:\n",
    "    if i ==100: break\n",
    "    if allm is None:\n",
    "        allm = data.mean(dim=0)[None]\n",
    "    if allm is not None:\n",
    "        allm = torch.cat((allm,data.mean(dim=0)[None]))\n",
    "    print(data.mean(dim=0))\n",
    "    \n",
    "    if allstd is None:\n",
    "        allstd = data.std(dim=0)[None]\n",
    "    if allstd is not None:\n",
    "        allstd = torch.cat((allstd,data.std(dim=0)[None]))\n",
    "    print(data.std(dim=0))\n",
    "    \n",
    "print('******************')\n",
    "print('mean = ', allm.mean(dim=0))\n",
    "print('sigma = ', allstd.mean(dim=0))\n",
    "print(\"took --- %s seconds ---\" % (time.time() - start_time))"
   ]
  },
  {
   "cell_type": "code",
   "execution_count": 4,
   "id": "19fea4e0-1eef-421f-ae60-bdada384b218",
   "metadata": {},
   "outputs": [],
   "source": [
    "data = torch.load('/data/p5/processed/tauswap_nu/b1_c0_r25214_sr37_e388_se2.pt')"
   ]
  },
  {
   "cell_type": "code",
   "execution_count": 6,
   "id": "5268bf3e-cf5e-4898-8bea-7f0bcb0cc514",
   "metadata": {},
   "outputs": [
    {
     "name": "stdout",
     "output_type": "stream",
     "text": [
      "dict_keys(['xfeats', 'xcoords', 'xsegtruth', 'xinstruth', 'yfeats', 'ycoords', 'ysegtruth', 'yinstruth', 'evttruth'])\n"
     ]
    }
   ],
   "source": [
    "print(data.keys())"
   ]
  },
  {
   "cell_type": "code",
   "execution_count": 6,
   "id": "b935e820-1e7e-4b44-b2df-b6c96a9dc48f",
   "metadata": {},
   "outputs": [
    {
     "data": {
      "text/plain": [
       "tensor([[14.5281],\n",
       "        [14.3992],\n",
       "        [14.4367],\n",
       "        [14.6346],\n",
       "        [14.5244],\n",
       "        [14.4577],\n",
       "        [14.4690],\n",
       "        [14.9295],\n",
       "        [15.0668],\n",
       "        [14.3993],\n",
       "        [14.5934],\n",
       "        [14.5495],\n",
       "        [15.0885],\n",
       "        [14.4660],\n",
       "        [14.8984],\n",
       "        [14.8869],\n",
       "        [14.3967],\n",
       "        [15.0645],\n",
       "        [14.5975],\n",
       "        [14.5828]])"
      ]
     },
     "execution_count": 6,
     "metadata": {},
     "output_type": "execute_result"
    }
   ],
   "source": [
    "allm"
   ]
  },
  {
   "cell_type": "code",
   "execution_count": 5,
   "id": "c3bc9448-4814-4b19-8745-95aa86bda11e",
   "metadata": {},
   "outputs": [],
   "source": [
    "import matplotlib.pyplot as plt"
   ]
  },
  {
   "cell_type": "code",
   "execution_count": 6,
   "id": "5b65ceca-0f69-4a89-bb01-15fa307da6c4",
   "metadata": {},
   "outputs": [
    {
     "data": {
      "text/plain": [
       "(array([ 5.,  8., 16., 27., 12., 17.,  8.,  6.,  1.,  1.]),\n",
       " array([14.059253, 14.169208, 14.279162, 14.389117, 14.499072, 14.609027,\n",
       "        14.718982, 14.828937, 14.938891, 15.048846, 15.158801],\n",
       "       dtype=float32),\n",
       " <BarContainer object of 10 artists>)"
      ]
     },
     "execution_count": 6,
     "metadata": {},
     "output_type": "execute_result"
    },
    {
     "data": {
      "image/png": "[encoded data removed]",
      "text/plain": [
       "<Figure size 432x288 with 1 Axes>"
      ]
     },
     "metadata": {
      "needs_background": "light"
     },
     "output_type": "display_data"
    }
   ],
   "source": [
    "plt.hist(allm.numpy())"
   ]
  },
  {
   "cell_type": "code",
   "execution_count": 7,
   "id": "d7b00f61-cc73-4dfc-bcca-27d3819b96ea",
   "metadata": {},
   "outputs": [
    {
     "data": {
      "text/plain": [
       "tensor(14.5137)"
      ]
     },
     "execution_count": 7,
     "metadata": {},
     "output_type": "execute_result"
    }
   ],
   "source": [
    "allm.mean()"
   ]
  },
  {
   "cell_type": "code",
   "execution_count": 10,
   "id": "6d0a964c-170c-47f5-b766-78ed0341bf37",
   "metadata": {},
   "outputs": [
    {
     "data": {
      "text/plain": [
       "(array([[0., 1., 0., 0., 0., 0., 0., 0., 0., 0.],\n",
       "        [1., 0., 0., 0., 0., 0., 0., 0., 0., 0.],\n",
       "        [1., 0., 0., 0., 0., 0., 0., 0., 0., 0.],\n",
       "        [0., 0., 0., 1., 0., 0., 0., 0., 0., 0.],\n",
       "        [0., 1., 0., 0., 0., 0., 0., 0., 0., 0.],\n",
       "        [1., 0., 0., 0., 0., 0., 0., 0., 0., 0.],\n",
       "        [0., 1., 0., 0., 0., 0., 0., 0., 0., 0.],\n",
       "        [0., 0., 0., 0., 0., 0., 0., 1., 0., 0.],\n",
       "        [0., 0., 0., 0., 0., 0., 0., 0., 0., 1.],\n",
       "        [1., 0., 0., 0., 0., 0., 0., 0., 0., 0.],\n",
       "        [0., 0., 1., 0., 0., 0., 0., 0., 0., 0.],\n",
       "        [0., 0., 1., 0., 0., 0., 0., 0., 0., 0.],\n",
       "        [0., 0., 0., 0., 0., 0., 0., 0., 0., 1.],\n",
       "        [0., 1., 0., 0., 0., 0., 0., 0., 0., 0.],\n",
       "        [0., 0., 0., 0., 0., 0., 0., 1., 0., 0.],\n",
       "        [0., 0., 0., 0., 0., 0., 0., 1., 0., 0.],\n",
       "        [1., 0., 0., 0., 0., 0., 0., 0., 0., 0.],\n",
       "        [0., 0., 0., 0., 0., 0., 0., 0., 0., 1.],\n",
       "        [0., 0., 1., 0., 0., 0., 0., 0., 0., 0.],\n",
       "        [0., 0., 1., 0., 0., 0., 0., 0., 0., 0.]]),\n",
       " array([14.396741, 14.465916, 14.53509 , 14.604264, 14.673439, 14.742614,\n",
       "        14.811789, 14.880963, 14.950137, 15.019312, 15.088487],\n",
       "       dtype=float32),\n",
       " <a list of 20 BarContainer objects>)"
      ]
     },
     "execution_count": 10,
     "metadata": {},
     "output_type": "execute_result"
    },
    {
     "data": {
      "image/png": "[encoded data removed]",
      "text/plain": [
       "<Figure size 432x288 with 1 Axes>"
      ]
     },
     "metadata": {
      "needs_background": "light"
     },
     "output_type": "display_data"
    }
   ],
   "source": [
    "plt.hist(allm)"
   ]
  },
  {
   "cell_type": "code",
   "execution_count": null,
   "id": "ad3fad49-5902-4339-ab1f-6f716515794e",
   "metadata": {},
   "outputs": [],
   "source": []
  }
 ],
 "metadata": {
  "kernelspec": {
   "display_name": "Python 3 (ipykernel)",
   "language": "python",
   "name": "python3"
  },
  "language_info": {
   "codemirror_mode": {
    "name": "ipython",
    "version": 3
   },
   "file_extension": ".py",
   "mimetype": "text/x-python",
   "name": "python",
   "nbconvert_exporter": "python",
   "pygments_lexer": "ipython3",
   "version": "3.9.5"
  }
 },
 "nbformat": 4,
 "nbformat_minor": 5
}
