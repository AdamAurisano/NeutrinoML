{
 "cells": [
  {
   "cell_type": "code",
   "execution_count": 1,
   "id": "7e0d85a6-0784-4b44-8dae-5331397fc438",
   "metadata": {},
   "outputs": [],
   "source": [
    "import sys, os.path as osp, yaml, argparse, logging, math, numpy as np, torch, logging, time\n",
    "sys.path.append('/scratch') # This line is equivalent to doing source scripts/source_me.sh in a bash terminal\n",
    "from torch.utils.data import DataLoader\n",
    "from Core.trainers import Trainer\n",
    "import glob\n",
    "from Core import utils\n",
    "from SparseNOvA import datasets"
   ]
  },
  {
   "cell_type": "code",
   "execution_count": 2,
   "id": "5fbdb32a-2840-4019-84a5-223f43663557",
   "metadata": {},
   "outputs": [],
   "source": [
    "data_tauswap = glob.glob('/data/p5/processed/tauswap_nu/*.pt')\n",
    "data_nonswap = glob.glob('/data/p5/processed/nonswap_nu/*.pt')\n",
    "data_fluxswap = glob.glob('/data/p5/processed/fluxswap_nu/*.pt')"
   ]
  },
  {
   "cell_type": "code",
   "execution_count": 8,
   "id": "26172238-82d0-412e-b8c2-749f5b4ed9af",
   "metadata": {},
   "outputs": [
    {
     "ename": "AttributeError",
     "evalue": "'Tensor' object has no attribute 'append'",
     "output_type": "error",
     "traceback": [
      "\u001b[0;31m---------------------------------------------------------------------------\u001b[0m",
      "\u001b[0;31mAttributeError\u001b[0m                            Traceback (most recent call last)",
      "\u001b[0;32m/tmp/ipykernel_509024/796749763.py\u001b[0m in \u001b[0;36m<module>\u001b[0;34m\u001b[0m\n\u001b[1;32m      3\u001b[0m \u001b[0;32mfor\u001b[0m \u001b[0mi\u001b[0m \u001b[0;32min\u001b[0m \u001b[0mdata_tauswap\u001b[0m\u001b[0;34m[\u001b[0m\u001b[0;34m:\u001b[0m\u001b[0;36m4000\u001b[0m\u001b[0;34m]\u001b[0m\u001b[0;34m:\u001b[0m\u001b[0;34m\u001b[0m\u001b[0;34m\u001b[0m\u001b[0m\n\u001b[1;32m      4\u001b[0m     \u001b[0mtensor\u001b[0m \u001b[0;34m=\u001b[0m \u001b[0mtorch\u001b[0m\u001b[0;34m.\u001b[0m\u001b[0mload\u001b[0m\u001b[0;34m(\u001b[0m\u001b[0mi\u001b[0m\u001b[0;34m)\u001b[0m\u001b[0;34m\u001b[0m\u001b[0;34m\u001b[0m\u001b[0m\n\u001b[0;32m----> 5\u001b[0;31m     \u001b[0mvector\u001b[0m\u001b[0;34m.\u001b[0m\u001b[0mappend\u001b[0m\u001b[0;34m(\u001b[0m\u001b[0mtensor\u001b[0m\u001b[0;34m[\u001b[0m\u001b[0;34m'evttruth'\u001b[0m\u001b[0;34m]\u001b[0m\u001b[0;34m)\u001b[0m\u001b[0;34m\u001b[0m\u001b[0;34m\u001b[0m\u001b[0m\n\u001b[0m\u001b[1;32m      6\u001b[0m     \u001b[0mvector\u001b[0m \u001b[0;34m=\u001b[0m \u001b[0mtorch\u001b[0m\u001b[0;34m.\u001b[0m\u001b[0mtensor\u001b[0m\u001b[0;34m(\u001b[0m\u001b[0mvector\u001b[0m\u001b[0;34m)\u001b[0m\u001b[0;34m.\u001b[0m\u001b[0mint\u001b[0m\u001b[0;34m(\u001b[0m\u001b[0;34m)\u001b[0m\u001b[0;34m\u001b[0m\u001b[0;34m\u001b[0m\u001b[0m\n\u001b[1;32m      7\u001b[0m     \u001b[0mvector\u001b[0m\u001b[0;34m.\u001b[0m\u001b[0msum\u001b[0m\u001b[0;34m(\u001b[0m\u001b[0mdim\u001b[0m\u001b[0;34m=\u001b[0m\u001b[0;36m0\u001b[0m\u001b[0;34m)\u001b[0m\u001b[0;34m\u001b[0m\u001b[0;34m\u001b[0m\u001b[0m\n",
      "\u001b[0;31mAttributeError\u001b[0m: 'Tensor' object has no attribute 'append'"
     ]
    }
   ],
   "source": [
    "vector = []\n",
    "import matplotlib.pyplot as plt\n",
    "for i in data_tauswap[:4000]:\n",
    "    tensor = torch.load(i)\n",
    "    vector.append(tensor['evttruth'])\n",
    "    vector = torch.tensor(vector).int()\n",
    "    vector.sum(dim=0)\n",
    "plt.hist(vector)\n"
   ]
  },
  {
   "cell_type": "code",
   "execution_count": 4,
   "id": "f02ec382-a6d1-4637-9eff-31843b5593fd",
   "metadata": {},
   "outputs": [
    {
     "data": {
      "text/plain": [
       "(array([[1., 0., 0., ..., 0., 0., 0.],\n",
       "        [1., 0., 0., ..., 0., 0., 0.],\n",
       "        [1., 0., 0., ..., 0., 0., 0.],\n",
       "        ...,\n",
       "        [1., 0., 0., ..., 0., 0., 0.],\n",
       "        [0., 0., 0., ..., 0., 0., 0.],\n",
       "        [1., 0., 0., ..., 0., 0., 0.]]),\n",
       " array([0. , 0.3, 0.6, 0.9, 1.2, 1.5, 1.8, 2.1, 2.4, 2.7, 3. ]),\n",
       " <a list of 2000 BarContainer objects>)"
      ]
     },
     "execution_count": 4,
     "metadata": {},
     "output_type": "execute_result"
    },
    {
     "data": {
      "image/png": "[encoded data removed]",
      "text/plain": [
       "<Figure size 432x288 with 1 Axes>"
      ]
     },
     "metadata": {
      "needs_background": "light"
     },
     "output_type": "display_data"
    }
   ],
   "source": [
    "vector = []\n",
    "import matplotlib.pyplot as plt\n",
    "for i in data_nonswap[:2000]:\n",
    "    tensor = torch.load(i)\n",
    "    vector.append(tensor['evttruth'])\n",
    "plt.hist(vector)"
   ]
  },
  {
   "cell_type": "code",
   "execution_count": 5,
   "id": "6ff07d0e-dacf-4af2-a6bc-246ae8e63ed6",
   "metadata": {},
   "outputs": [
    {
     "data": {
      "text/plain": [
       "(array([[0., 0., 0., ..., 0., 0., 0.],\n",
       "        [0., 0., 0., ..., 0., 0., 0.],\n",
       "        [0., 0., 0., ..., 0., 0., 0.],\n",
       "        ...,\n",
       "        [0., 0., 0., ..., 0., 0., 0.],\n",
       "        [0., 0., 0., ..., 0., 0., 0.],\n",
       "        [0., 0., 0., ..., 0., 0., 0.]]),\n",
       " array([0. , 0.3, 0.6, 0.9, 1.2, 1.5, 1.8, 2.1, 2.4, 2.7, 3. ]),\n",
       " <a list of 2000 BarContainer objects>)"
      ]
     },
     "execution_count": 5,
     "metadata": {},
     "output_type": "execute_result"
    },
    {
     "data": {
      "image/png": "[encoded data removed]",
      "text/plain": [
       "<Figure size 432x288 with 1 Axes>"
      ]
     },
     "metadata": {
      "needs_background": "light"
     },
     "output_type": "display_data"
    }
   ],
   "source": [
    "vector = []\n",
    "import matplotlib.pyplot as plt\n",
    "for i in data_fluxswap[:2000]:\n",
    "    tensor = torch.load(i)\n",
    "    vector.append(tensor['evttruth'])\n",
    "plt.hist(vector)"
   ]
  },
  {
   "cell_type": "code",
   "execution_count": 3,
   "id": "62161ad7-6b38-4cfa-b47c-cb63916d052c",
   "metadata": {},
   "outputs": [
    {
     "name": "stdout",
     "output_type": "stream",
     "text": [
      "/data/p5/processed/tauswap_nu/b1_c0_r19719_sr24_e290_se2.pt\n"
     ]
    }
   ],
   "source": [
    "print(data[20])"
   ]
  },
  {
   "cell_type": "code",
   "execution_count": 19,
   "id": "f9898ec3-5db3-44bb-9977-9362aa09ec31",
   "metadata": {},
   "outputs": [
    {
     "name": "stdout",
     "output_type": "stream",
     "text": [
      "tensor(2)\n"
     ]
    }
   ],
   "source": [
    "tensor = torch.load(data[5006])\n",
    "print(tensor['evttruth'])\n",
    "# 0 = nu_mu\n",
    "# 1 = nu_e\n",
    "# 2 = nu_tau\n",
    "# 3 = nc\n",
    "# 4 = cosmic"
   ]
  },
  {
   "cell_type": "code",
   "execution_count": null,
   "id": "26e4dde6-3ae4-406e-a355-5bf3c2ea7ccd",
   "metadata": {},
   "outputs": [],
   "source": []
  }
 ],
 "metadata": {
  "kernelspec": {
   "display_name": "Python 3 (ipykernel)",
   "language": "python",
   "name": "python3"
  },
  "language_info": {
   "codemirror_mode": {
    "name": "ipython",
    "version": 3
   },
   "file_extension": ".py",
   "mimetype": "text/x-python",
   "name": "python",
   "nbconvert_exporter": "python",
   "pygments_lexer": "ipython3",
   "version": "3.9.5"
  }
 },
 "nbformat": 4,
 "nbformat_minor": 5
}
