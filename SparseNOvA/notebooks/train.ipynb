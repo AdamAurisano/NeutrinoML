{
 "cells": [
  {
   "cell_type": "markdown",
   "metadata": {},
   "source": [
    "### Imports\n",
    "\n",
    "First we need to correctly set the python environment. This is done by adding the top directory of the repository to the Python path. Once that's done, we can import various packages from inside the repository."
   ]
  },
  {
   "cell_type": "code",
   "execution_count": 1,
   "metadata": {},
   "outputs": [],
   "source": [
    "import sys, models, yaml, argparse, logging, math, numpy as np, torch, torchvision, sherpa, logging\n",
    "sys.path.append('/scratch') # This line is equivalent to doing source scripts/source_me.sh in a bash terminal\n",
    "from torch.utils.data import DataLoader\n",
    "import MinkowskiEngine as ME\n",
    "from SparseBase.trainers import SparseTrainer\n",
    "from glob import glob\n",
    "from SparseBase import utils\n",
    "from SparseNOvA import datasets"
   ]
  },
  {
   "cell_type": "markdown",
   "metadata": {},
   "source": [
    "### Configuring\n",
    "\n",
    "Most of the training options are set in a configuration YAML file. We're going to load this config, and then the options inside will be passed to the relevent piece of the training framework."
   ]
  },
  {
   "cell_type": "code",
   "execution_count": 2,
   "metadata": {},
   "outputs": [
    {
     "ename": "FileNotFoundError",
     "evalue": "[Errno 2] No such file or directory: '/scratch/SparseNOvA/config/sparse_nova_mobilenet1.yaml'",
     "output_type": "error",
     "traceback": [
      "\u001b[0;31m---------------------------------------------------------------------------\u001b[0m",
      "\u001b[0;31mFileNotFoundError\u001b[0m                         Traceback (most recent call last)",
      "\u001b[0;32m<ipython-input-2-dbc8daf3b410>\u001b[0m in \u001b[0;36m<module>\u001b[0;34m\u001b[0m\n\u001b[0;32m----> 1\u001b[0;31m \u001b[0;32mwith\u001b[0m \u001b[0mopen\u001b[0m\u001b[0;34m(\u001b[0m\u001b[0;34m'/scratch/SparseNOvA/config/sparse_nova_mobilenet1.yaml'\u001b[0m\u001b[0;34m)\u001b[0m \u001b[0;32mas\u001b[0m \u001b[0mf\u001b[0m\u001b[0;34m:\u001b[0m\u001b[0;34m\u001b[0m\u001b[0;34m\u001b[0m\u001b[0m\n\u001b[0m\u001b[1;32m      2\u001b[0m     \u001b[0mconfig\u001b[0m \u001b[0;34m=\u001b[0m \u001b[0myaml\u001b[0m\u001b[0;34m.\u001b[0m\u001b[0mload\u001b[0m\u001b[0;34m(\u001b[0m\u001b[0mf\u001b[0m\u001b[0;34m,\u001b[0m \u001b[0mLoader\u001b[0m\u001b[0;34m=\u001b[0m\u001b[0myaml\u001b[0m\u001b[0;34m.\u001b[0m\u001b[0mFullLoader\u001b[0m\u001b[0;34m)\u001b[0m\u001b[0;34m\u001b[0m\u001b[0;34m\u001b[0m\u001b[0m\n",
      "\u001b[0;31mFileNotFoundError\u001b[0m: [Errno 2] No such file or directory: '/scratch/SparseNOvA/config/sparse_nova_mobilenet1.yaml'"
     ]
    }
   ],
   "source": [
    "with open('/scratch/SparseNOvA/config/sparse_nova_mobilenet1.yaml') as f:\n",
    "    config = yaml.load(f, Loader=yaml.FullLoader)"
   ]
  },
  {
   "cell_type": "markdown",
   "metadata": {},
   "source": [
    "### Loading inputs\n",
    "\n",
    "Here we load the dataset and the trainer, which is responsible for building the model and overseeing training. There's a block of code which is responsible for slicing the full dataset up into a training dataset and a validation dataset where jitter is applied to training dataset only."
   ]
  },
  {
   "cell_type": "code",
   "execution_count": 3,
   "metadata": {},
   "outputs": [],
   "source": [
    "all_nus = sorted(glob('/data/mp5/preselection_v2/nu/*.pt'))\n",
    "all_cosmics = sorted(glob('/data/mp5/preselection_v2/cosmic/*.pt'))\n",
    "\n",
    "if len(all_cosmics) > int(0.1 * len(all_nus)):\n",
    "    all_cosmics = all_cosmics[0:int(0.1*len(all_nus))]\n",
    "\n",
    "fulllen_nu = len(all_nus)\n",
    "fulllen_cosmic = len(all_cosmics)\n",
    "\n",
    "tv_num_nu = math.ceil(fulllen_nu*config['data']['t_v_split'])\n",
    "tv_num_cosmic = math.ceil(fulllen_cosmic*config['data']['t_v_split'])\n",
    "\n",
    "splits_nu = np.cumsum([fulllen_nu - tv_num_nu, 0, tv_num_nu])\n",
    "splits_cos = np.cumsum([fulllen_cosmic - tv_num_cosmic, 0, tv_num_cosmic])\n",
    "# print(splits_nu)\n",
    "# print(splits_cos)\n",
    "\n",
    "train_files = sorted(all_nus[0:splits_nu[1]] + all_cosmics[0:splits_cos[1]])\n",
    "train_dataset = datasets.get_dataset(filelist=train_files, apply_jitter=True, **config['data'])\n",
    "\n",
    "valid_files = sorted(all_nus[splits_nu[1]:splits_nu[2]] + all_cosmics[splits_cos[1]:splits_cos[2]])\n",
    "valid_dataset = datasets.get_dataset(filelist=valid_files, apply_jitter=False, **config['data'])\n",
    "\n",
    "parameters = [sherpa.Continuous('learning_rate', [1e-5, 1e-1]), sherpa.Continuous('weight_decay', [0.01, 0.1]), sherpa.Discrete('unet_depth', [2, 6])]\n",
    "\n",
    "trainer = SparseTrainer(**config['trainer'])\n",
    "\n",
    "alg = sherpa.algorithms.GPyOpt(max_num_trials=50)\n",
    "\n",
    "study = sherpa.Study(parameters=parameters, algorithm=alg, lower_is_better=True, dashboard_port=8000)\n",
    "\n",
    "collate = utils.collate_sparse_minkowski_2stack\n",
    "\n",
    "train_loader = DataLoader(train_dataset, collate_fn=collate, **config['data_loader'], shuffle=True)\n",
    "valid_loader = DataLoader(valid_dataset, collate_fn=collate, **config['data_loader'], shuffle=False)"
   ]
  },
  {
   "cell_type": "markdown",
   "metadata": {},
   "source": [
    "### Building the model\n",
    "\n",
    "The trainer will load the network architecture and compile it into a model.\n",
    "The second line will keep a log of the trainer for reference. \n",
    "The third line will use specific parameters which were successful in a previous training. "
   ]
  },
  {
   "cell_type": "code",
   "execution_count": 4,
   "metadata": {},
   "outputs": [],
   "source": [
    "trainer.build_model(**config['model'])\n",
    "trainer.logger.addHandler(logging.FileHandler('/scratch/SparseNOvA/logs/train.log'))\n",
    "# trainer.load_state_dict(state_dict='params/checkpoints/model_checkpoint_Minkowski2StackClass_213908357_2e641e404d_haejunoh_005.pth.tar')"
   ]
  },
  {
   "cell_type": "markdown",
   "metadata": {},
   "source": [
    "### Training!\n",
    "\n",
    "Once all the setup is done, all that's left is to run training and save some summary statistics to file."
   ]
  },
  {
   "cell_type": "code",
   "execution_count": null,
   "metadata": {},
   "outputs": [
    {
     "name": "stderr",
     "output_type": "stream",
     "text": [
      "loss = 1.36867:  73%|███████▎  | 35119/47954 [3:09:25<1:35:58,  2.23it/s]"
     ]
    }
   ],
   "source": [
    "train_summary = trainer.train(train_loader, valid_data_loader=valid_loader, sherpa_study=study, sherpa_trial=trial, **config['trainer'])\n",
    "print(train_summary)\n",
    "torch.save(train_summary, 'summary_test.pt')"
   ]
  },
  {
   "cell_type": "code",
   "execution_count": null,
   "metadata": {},
   "outputs": [],
   "source": []
  }
 ],
 "metadata": {
  "kernelspec": {
   "display_name": "Python 3",
   "language": "python",
   "name": "python3"
  },
  "language_info": {
   "codemirror_mode": {
    "name": "ipython",
    "version": 3
   },
   "file_extension": ".py",
   "mimetype": "text/x-python",
   "name": "python",
   "nbconvert_exporter": "python",
   "pygments_lexer": "ipython3",
   "version": "3.6.7"
  }
 },
 "nbformat": 4,
 "nbformat_minor": 4
}
